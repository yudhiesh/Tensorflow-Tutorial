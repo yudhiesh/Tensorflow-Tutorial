{
  "nbformat": 4,
  "nbformat_minor": 0,
  "metadata": {
    "colab": {
      "name": "Untitled7.ipynb",
      "provenance": [],
      "authorship_tag": "ABX9TyOtIV9WekdIw/qLsesypscE",
      "include_colab_link": true
    },
    "kernelspec": {
      "name": "python3",
      "display_name": "Python 3"
    }
  },
  "cells": [
    {
      "cell_type": "markdown",
      "metadata": {
        "id": "view-in-github",
        "colab_type": "text"
      },
      "source": [
        "<a href=\"https://colab.research.google.com/github/yudhiesh1997/Tensorflow-Tutorial/blob/master/IrisDataset.ipynb\" target=\"_parent\"><img src=\"https://colab.research.google.com/assets/colab-badge.svg\" alt=\"Open In Colab\"/></a>"
      ]
    },
    {
      "cell_type": "code",
      "metadata": {
        "id": "T4AgdzIonrLq",
        "colab_type": "code",
        "colab": {
          "base_uri": "https://localhost:8080/",
          "height": 34
        },
        "outputId": "21865af9-ebca-4f11-bae1-070420596e22"
      },
      "source": [
        "# Classification Iris Dataset\n",
        "%tensorflow_version 2.x \n",
        "from __future__ import absolute_import, division, print_function, unicode_literals\n",
        "\n",
        "\n",
        "import tensorflow as tf\n",
        "\n",
        "import pandas as pd"
      ],
      "execution_count": 1,
      "outputs": [
        {
          "output_type": "stream",
          "text": [
            "TensorFlow 2.x selected.\n"
          ],
          "name": "stdout"
        }
      ]
    },
    {
      "cell_type": "code",
      "metadata": {
        "id": "0aTtz8E6uzSv",
        "colab_type": "code",
        "colab": {}
      },
      "source": [
        "CSV_COLUMN_NAMES = ['SepalLength', 'SepalWIdth', 'PetalLength', 'PetalWidth', 'Species']\n",
        "SPECIES = ['Setosa', 'Versicolor', 'Virginnica']\n",
        "\n"
      ],
      "execution_count": 0,
      "outputs": []
    },
    {
      "cell_type": "code",
      "metadata": {
        "id": "ivy__ydevHAQ",
        "colab_type": "code",
        "colab": {
          "base_uri": "https://localhost:8080/",
          "height": 107
        },
        "outputId": "bc1edbb1-4220-4a6d-d573-51e61ffbd305"
      },
      "source": [
        "train_path = tf.keras.utils.get_file(\n",
        "    \"iris_training.csv\", \"https://storage.googleapis.com/download.tensorflow.org/data/iris_training.csv\")\n",
        "test_path = tf.keras.utils.get_file(\n",
        "    \"iris_test.csv\", \"https://storage.googleapis.com/download.tensorflow.org/data/iris_test.csv\")\n",
        "\n",
        "train = pd.read_csv(train_path, names=CSV_COLUMN_NAMES, header=0)\n",
        "test = pd.read_csv(test_path, names=CSV_COLUMN_NAMES, header=0)"
      ],
      "execution_count": 3,
      "outputs": [
        {
          "output_type": "stream",
          "text": [
            "Downloading data from https://storage.googleapis.com/download.tensorflow.org/data/iris_training.csv\n",
            "8192/2194 [================================================================================================================] - 0s 0us/step\n",
            "Downloading data from https://storage.googleapis.com/download.tensorflow.org/data/iris_test.csv\n",
            "8192/573 [============================================================================================================================================================================================================================================================================================================================================================================================================================================] - 0s 0us/step\n"
          ],
          "name": "stdout"
        }
      ]
    },
    {
      "cell_type": "code",
      "metadata": {
        "id": "HyVytUrevhD6",
        "colab_type": "code",
        "colab": {
          "base_uri": "https://localhost:8080/",
          "height": 197
        },
        "outputId": "214837af-cbb8-4daf-94ec-7fb9f643796b"
      },
      "source": [
        "train.head()\n"
      ],
      "execution_count": 4,
      "outputs": [
        {
          "output_type": "execute_result",
          "data": {
            "text/html": [
              "<div>\n",
              "<style scoped>\n",
              "    .dataframe tbody tr th:only-of-type {\n",
              "        vertical-align: middle;\n",
              "    }\n",
              "\n",
              "    .dataframe tbody tr th {\n",
              "        vertical-align: top;\n",
              "    }\n",
              "\n",
              "    .dataframe thead th {\n",
              "        text-align: right;\n",
              "    }\n",
              "</style>\n",
              "<table border=\"1\" class=\"dataframe\">\n",
              "  <thead>\n",
              "    <tr style=\"text-align: right;\">\n",
              "      <th></th>\n",
              "      <th>SepalLength</th>\n",
              "      <th>SepalWIdth</th>\n",
              "      <th>PetalLength</th>\n",
              "      <th>PetalWidth</th>\n",
              "      <th>Species</th>\n",
              "    </tr>\n",
              "  </thead>\n",
              "  <tbody>\n",
              "    <tr>\n",
              "      <th>0</th>\n",
              "      <td>6.4</td>\n",
              "      <td>2.8</td>\n",
              "      <td>5.6</td>\n",
              "      <td>2.2</td>\n",
              "      <td>2</td>\n",
              "    </tr>\n",
              "    <tr>\n",
              "      <th>1</th>\n",
              "      <td>5.0</td>\n",
              "      <td>2.3</td>\n",
              "      <td>3.3</td>\n",
              "      <td>1.0</td>\n",
              "      <td>1</td>\n",
              "    </tr>\n",
              "    <tr>\n",
              "      <th>2</th>\n",
              "      <td>4.9</td>\n",
              "      <td>2.5</td>\n",
              "      <td>4.5</td>\n",
              "      <td>1.7</td>\n",
              "      <td>2</td>\n",
              "    </tr>\n",
              "    <tr>\n",
              "      <th>3</th>\n",
              "      <td>4.9</td>\n",
              "      <td>3.1</td>\n",
              "      <td>1.5</td>\n",
              "      <td>0.1</td>\n",
              "      <td>0</td>\n",
              "    </tr>\n",
              "    <tr>\n",
              "      <th>4</th>\n",
              "      <td>5.7</td>\n",
              "      <td>3.8</td>\n",
              "      <td>1.7</td>\n",
              "      <td>0.3</td>\n",
              "      <td>0</td>\n",
              "    </tr>\n",
              "  </tbody>\n",
              "</table>\n",
              "</div>"
            ],
            "text/plain": [
              "   SepalLength  SepalWIdth  PetalLength  PetalWidth  Species\n",
              "0          6.4         2.8          5.6         2.2        2\n",
              "1          5.0         2.3          3.3         1.0        1\n",
              "2          4.9         2.5          4.5         1.7        2\n",
              "3          4.9         3.1          1.5         0.1        0\n",
              "4          5.7         3.8          1.7         0.3        0"
            ]
          },
          "metadata": {
            "tags": []
          },
          "execution_count": 4
        }
      ]
    },
    {
      "cell_type": "code",
      "metadata": {
        "id": "Y3THUtYrvnkG",
        "colab_type": "code",
        "colab": {
          "base_uri": "https://localhost:8080/",
          "height": 197
        },
        "outputId": "62449aba-76e5-4851-b47d-c43345cbb9d5"
      },
      "source": [
        "train_y = train.pop('Species')\n",
        "test_y = test.pop('Species')\n",
        "\n",
        "train.head()\n",
        "test.head()"
      ],
      "execution_count": 5,
      "outputs": [
        {
          "output_type": "execute_result",
          "data": {
            "text/html": [
              "<div>\n",
              "<style scoped>\n",
              "    .dataframe tbody tr th:only-of-type {\n",
              "        vertical-align: middle;\n",
              "    }\n",
              "\n",
              "    .dataframe tbody tr th {\n",
              "        vertical-align: top;\n",
              "    }\n",
              "\n",
              "    .dataframe thead th {\n",
              "        text-align: right;\n",
              "    }\n",
              "</style>\n",
              "<table border=\"1\" class=\"dataframe\">\n",
              "  <thead>\n",
              "    <tr style=\"text-align: right;\">\n",
              "      <th></th>\n",
              "      <th>SepalLength</th>\n",
              "      <th>SepalWIdth</th>\n",
              "      <th>PetalLength</th>\n",
              "      <th>PetalWidth</th>\n",
              "    </tr>\n",
              "  </thead>\n",
              "  <tbody>\n",
              "    <tr>\n",
              "      <th>0</th>\n",
              "      <td>5.9</td>\n",
              "      <td>3.0</td>\n",
              "      <td>4.2</td>\n",
              "      <td>1.5</td>\n",
              "    </tr>\n",
              "    <tr>\n",
              "      <th>1</th>\n",
              "      <td>6.9</td>\n",
              "      <td>3.1</td>\n",
              "      <td>5.4</td>\n",
              "      <td>2.1</td>\n",
              "    </tr>\n",
              "    <tr>\n",
              "      <th>2</th>\n",
              "      <td>5.1</td>\n",
              "      <td>3.3</td>\n",
              "      <td>1.7</td>\n",
              "      <td>0.5</td>\n",
              "    </tr>\n",
              "    <tr>\n",
              "      <th>3</th>\n",
              "      <td>6.0</td>\n",
              "      <td>3.4</td>\n",
              "      <td>4.5</td>\n",
              "      <td>1.6</td>\n",
              "    </tr>\n",
              "    <tr>\n",
              "      <th>4</th>\n",
              "      <td>5.5</td>\n",
              "      <td>2.5</td>\n",
              "      <td>4.0</td>\n",
              "      <td>1.3</td>\n",
              "    </tr>\n",
              "  </tbody>\n",
              "</table>\n",
              "</div>"
            ],
            "text/plain": [
              "   SepalLength  SepalWIdth  PetalLength  PetalWidth\n",
              "0          5.9         3.0          4.2         1.5\n",
              "1          6.9         3.1          5.4         2.1\n",
              "2          5.1         3.3          1.7         0.5\n",
              "3          6.0         3.4          4.5         1.6\n",
              "4          5.5         2.5          4.0         1.3"
            ]
          },
          "metadata": {
            "tags": []
          },
          "execution_count": 5
        }
      ]
    },
    {
      "cell_type": "code",
      "metadata": {
        "id": "rud_hModvz_0",
        "colab_type": "code",
        "colab": {
          "base_uri": "https://localhost:8080/",
          "height": 34
        },
        "outputId": "8e1ec8b3-77d8-4af4-e220-9bbcb3536e53"
      },
      "source": [
        "train.shape\n",
        "test.shape"
      ],
      "execution_count": 7,
      "outputs": [
        {
          "output_type": "execute_result",
          "data": {
            "text/plain": [
              "(30, 4)"
            ]
          },
          "metadata": {
            "tags": []
          },
          "execution_count": 7
        }
      ]
    },
    {
      "cell_type": "code",
      "metadata": {
        "id": "-jsu5D7Nv7Gs",
        "colab_type": "code",
        "colab": {}
      },
      "source": [
        "def input_function(features, labels, training=True, batch_size=25):\n",
        "  dataset = tf.data.Dataset.from_tensor_slices((dict(features), labels))\n",
        "\n",
        "  if training:\n",
        "    dataset = dataset.shuffle(1000).repeat()\n",
        "  return dataset.batch(batch_size)\n",
        "\n"
      ],
      "execution_count": 0,
      "outputs": []
    },
    {
      "cell_type": "code",
      "metadata": {
        "id": "veaa22sHwael",
        "colab_type": "code",
        "colab": {
          "base_uri": "https://localhost:8080/",
          "height": 54
        },
        "outputId": "116cb35f-8446-4e45-93d1-c4be48fcc7a1"
      },
      "source": [
        "# Feature Column \n",
        "feature_column = []\n",
        "\n",
        "for feature_name in train.keys():\n",
        "  feature_column.append(tf.feature_column.numeric_column(key=feature_name))\n",
        "print(feature_column)"
      ],
      "execution_count": 9,
      "outputs": [
        {
          "output_type": "stream",
          "text": [
            "[NumericColumn(key='SepalLength', shape=(1,), default_value=None, dtype=tf.float32, normalizer_fn=None), NumericColumn(key='SepalWIdth', shape=(1,), default_value=None, dtype=tf.float32, normalizer_fn=None), NumericColumn(key='PetalLength', shape=(1,), default_value=None, dtype=tf.float32, normalizer_fn=None), NumericColumn(key='PetalWidth', shape=(1,), default_value=None, dtype=tf.float32, normalizer_fn=None)]\n"
          ],
          "name": "stdout"
        }
      ]
    },
    {
      "cell_type": "code",
      "metadata": {
        "id": "TTrbqd_0wzDO",
        "colab_type": "code",
        "colab": {
          "base_uri": "https://localhost:8080/",
          "height": 196
        },
        "outputId": "c536f5a7-cff8-454b-b516-da119696fcef"
      },
      "source": [
        "# Building the Model \n",
        "classifier = tf.estimator.DNNClassifier(\n",
        "    hidden_units = [30,10],\n",
        "    feature_columns=feature_column,\n",
        "    n_classes=3\n",
        ") "
      ],
      "execution_count": 11,
      "outputs": [
        {
          "output_type": "stream",
          "text": [
            "INFO:tensorflow:Using default config.\n",
            "WARNING:tensorflow:Using temporary folder as model directory: /tmp/tmp2auvnjib\n",
            "INFO:tensorflow:Using config: {'_model_dir': '/tmp/tmp2auvnjib', '_tf_random_seed': None, '_save_summary_steps': 100, '_save_checkpoints_steps': None, '_save_checkpoints_secs': 600, '_session_config': allow_soft_placement: true\n",
            "graph_options {\n",
            "  rewrite_options {\n",
            "    meta_optimizer_iterations: ONE\n",
            "  }\n",
            "}\n",
            ", '_keep_checkpoint_max': 5, '_keep_checkpoint_every_n_hours': 10000, '_log_step_count_steps': 100, '_train_distribute': None, '_device_fn': None, '_protocol': None, '_eval_distribute': None, '_experimental_distribute': None, '_experimental_max_worker_delay_secs': None, '_session_creation_timeout_secs': 7200, '_service': None, '_cluster_spec': ClusterSpec({}), '_task_type': 'worker', '_task_id': 0, '_global_id_in_cluster': 0, '_master': '', '_evaluation_master': '', '_is_chief': True, '_num_ps_replicas': 0, '_num_worker_replicas': 1}\n"
          ],
          "name": "stdout"
        }
      ]
    },
    {
      "cell_type": "code",
      "metadata": {
        "id": "2sbC4J6cxUR8",
        "colab_type": "code",
        "colab": {
          "base_uri": "https://localhost:8080/",
          "height": 1000
        },
        "outputId": "19459768-4b85-4905-de04-b8061c22616a"
      },
      "source": [
        "classifier.train(\n",
        "    input_fn=lambda: input_function(train, train_y, training=True),\n",
        "    steps=5000)"
      ],
      "execution_count": 12,
      "outputs": [
        {
          "output_type": "stream",
          "text": [
            "WARNING:tensorflow:From /usr/local/lib/python3.6/dist-packages/tensorflow_core/python/ops/resource_variable_ops.py:1635: calling BaseResourceVariable.__init__ (from tensorflow.python.ops.resource_variable_ops) with constraint is deprecated and will be removed in a future version.\n",
            "Instructions for updating:\n",
            "If using Keras pass *_constraint arguments to layers.\n",
            "WARNING:tensorflow:From /usr/local/lib/python3.6/dist-packages/tensorflow_core/python/training/training_util.py:236: Variable.initialized_value (from tensorflow.python.ops.variables) is deprecated and will be removed in a future version.\n",
            "Instructions for updating:\n",
            "Use Variable.read_value. Variables in 2.X are initialized automatically both in eager and graph (inside tf.defun) contexts.\n",
            "INFO:tensorflow:Calling model_fn.\n",
            "WARNING:tensorflow:Layer dnn is casting an input tensor from dtype float64 to the layer's dtype of float32, which is new behavior in TensorFlow 2.  The layer has dtype float32 because it's dtype defaults to floatx.\n",
            "\n",
            "If you intended to run this layer in float32, you can safely ignore this warning. If in doubt, this warning is likely only an issue if you are porting a TensorFlow 1.X model to TensorFlow 2.\n",
            "\n",
            "To change all layers to have dtype float64 by default, call `tf.keras.backend.set_floatx('float64')`. To change just this layer, pass dtype='float64' to the layer constructor. If you are the author of this layer, you can disable autocasting by passing autocast=False to the base Layer constructor.\n",
            "\n",
            "WARNING:tensorflow:From /usr/local/lib/python3.6/dist-packages/tensorflow_core/python/keras/optimizer_v2/adagrad.py:103: calling Constant.__init__ (from tensorflow.python.ops.init_ops) with dtype is deprecated and will be removed in a future version.\n",
            "Instructions for updating:\n",
            "Call initializer instance with the dtype argument instead of passing it to the constructor\n",
            "INFO:tensorflow:Done calling model_fn.\n",
            "INFO:tensorflow:Create CheckpointSaverHook.\n",
            "INFO:tensorflow:Graph was finalized.\n",
            "INFO:tensorflow:Running local_init_op.\n",
            "INFO:tensorflow:Done running local_init_op.\n",
            "INFO:tensorflow:Saving checkpoints for 0 into /tmp/tmp2auvnjib/model.ckpt.\n",
            "INFO:tensorflow:loss = 0.87910986, step = 0\n",
            "INFO:tensorflow:global_step/sec: 612.755\n",
            "INFO:tensorflow:loss = 0.9139053, step = 100 (0.167 sec)\n",
            "INFO:tensorflow:global_step/sec: 964.015\n",
            "INFO:tensorflow:loss = 0.77623177, step = 200 (0.104 sec)\n",
            "INFO:tensorflow:global_step/sec: 917.763\n",
            "INFO:tensorflow:loss = 0.7853418, step = 300 (0.110 sec)\n",
            "WARNING:tensorflow:It seems that global step (tf.train.get_global_step) has not been increased. Current value (could be stable): 302 vs previous value: 302. You could increase the global step by passing tf.train.get_global_step() to Optimizer.apply_gradients or Optimizer.minimize.\n",
            "WARNING:tensorflow:It seems that global step (tf.train.get_global_step) has not been increased. Current value (could be stable): 365 vs previous value: 365. You could increase the global step by passing tf.train.get_global_step() to Optimizer.apply_gradients or Optimizer.minimize.\n",
            "INFO:tensorflow:global_step/sec: 859.638\n",
            "INFO:tensorflow:loss = 0.8171224, step = 400 (0.115 sec)\n",
            "INFO:tensorflow:global_step/sec: 908.716\n",
            "INFO:tensorflow:loss = 0.74763924, step = 500 (0.109 sec)\n",
            "INFO:tensorflow:global_step/sec: 796.822\n",
            "INFO:tensorflow:loss = 0.712662, step = 600 (0.126 sec)\n",
            "INFO:tensorflow:global_step/sec: 943.246\n",
            "INFO:tensorflow:loss = 0.6962103, step = 700 (0.106 sec)\n",
            "INFO:tensorflow:global_step/sec: 936.433\n",
            "INFO:tensorflow:loss = 0.6910471, step = 800 (0.107 sec)\n",
            "INFO:tensorflow:global_step/sec: 889.991\n",
            "INFO:tensorflow:loss = 0.73023933, step = 900 (0.111 sec)\n",
            "INFO:tensorflow:global_step/sec: 951.676\n",
            "INFO:tensorflow:loss = 0.73375595, step = 1000 (0.106 sec)\n",
            "INFO:tensorflow:global_step/sec: 942.625\n",
            "INFO:tensorflow:loss = 0.65508634, step = 1100 (0.108 sec)\n",
            "INFO:tensorflow:global_step/sec: 925.682\n",
            "INFO:tensorflow:loss = 0.56546164, step = 1200 (0.110 sec)\n",
            "INFO:tensorflow:global_step/sec: 879.071\n",
            "INFO:tensorflow:loss = 0.6667875, step = 1300 (0.109 sec)\n",
            "INFO:tensorflow:global_step/sec: 960.663\n",
            "INFO:tensorflow:loss = 0.5731277, step = 1400 (0.104 sec)\n",
            "INFO:tensorflow:global_step/sec: 920.377\n",
            "INFO:tensorflow:loss = 0.57068455, step = 1500 (0.110 sec)\n",
            "INFO:tensorflow:global_step/sec: 822.188\n",
            "INFO:tensorflow:loss = 0.5810473, step = 1600 (0.122 sec)\n",
            "INFO:tensorflow:global_step/sec: 917.889\n",
            "INFO:tensorflow:loss = 0.52560914, step = 1700 (0.109 sec)\n",
            "INFO:tensorflow:global_step/sec: 931.596\n",
            "INFO:tensorflow:loss = 0.54267395, step = 1800 (0.109 sec)\n",
            "INFO:tensorflow:global_step/sec: 870.142\n",
            "INFO:tensorflow:loss = 0.51992214, step = 1900 (0.112 sec)\n",
            "INFO:tensorflow:global_step/sec: 939.833\n",
            "INFO:tensorflow:loss = 0.53368396, step = 2000 (0.106 sec)\n",
            "INFO:tensorflow:global_step/sec: 901.819\n",
            "INFO:tensorflow:loss = 0.5581345, step = 2100 (0.112 sec)\n",
            "INFO:tensorflow:global_step/sec: 813.488\n",
            "INFO:tensorflow:loss = 0.5844212, step = 2200 (0.125 sec)\n",
            "INFO:tensorflow:global_step/sec: 802.487\n",
            "INFO:tensorflow:loss = 0.54294753, step = 2300 (0.122 sec)\n",
            "INFO:tensorflow:global_step/sec: 939.147\n",
            "INFO:tensorflow:loss = 0.4313169, step = 2400 (0.107 sec)\n",
            "INFO:tensorflow:global_step/sec: 867.108\n",
            "INFO:tensorflow:loss = 0.525439, step = 2500 (0.115 sec)\n",
            "INFO:tensorflow:global_step/sec: 883.242\n",
            "INFO:tensorflow:loss = 0.4913002, step = 2600 (0.113 sec)\n",
            "INFO:tensorflow:global_step/sec: 892.941\n",
            "INFO:tensorflow:loss = 0.46288472, step = 2700 (0.112 sec)\n",
            "INFO:tensorflow:global_step/sec: 893.316\n",
            "INFO:tensorflow:loss = 0.4765812, step = 2800 (0.114 sec)\n",
            "INFO:tensorflow:global_step/sec: 908.198\n",
            "INFO:tensorflow:loss = 0.57754356, step = 2900 (0.110 sec)\n",
            "INFO:tensorflow:global_step/sec: 854.758\n",
            "INFO:tensorflow:loss = 0.49332103, step = 3000 (0.118 sec)\n",
            "INFO:tensorflow:global_step/sec: 842.609\n",
            "INFO:tensorflow:loss = 0.47452572, step = 3100 (0.116 sec)\n",
            "INFO:tensorflow:global_step/sec: 821.3\n",
            "INFO:tensorflow:loss = 0.5218924, step = 3200 (0.122 sec)\n",
            "INFO:tensorflow:global_step/sec: 952.655\n",
            "INFO:tensorflow:loss = 0.5071776, step = 3300 (0.106 sec)\n",
            "INFO:tensorflow:global_step/sec: 940.155\n",
            "INFO:tensorflow:loss = 0.4565901, step = 3400 (0.105 sec)\n",
            "INFO:tensorflow:global_step/sec: 940.594\n",
            "INFO:tensorflow:loss = 0.4466302, step = 3500 (0.107 sec)\n",
            "INFO:tensorflow:global_step/sec: 908.361\n",
            "INFO:tensorflow:loss = 0.49035823, step = 3600 (0.111 sec)\n",
            "INFO:tensorflow:global_step/sec: 823.912\n",
            "INFO:tensorflow:loss = 0.39150253, step = 3700 (0.120 sec)\n",
            "INFO:tensorflow:global_step/sec: 953.314\n",
            "INFO:tensorflow:loss = 0.39094457, step = 3800 (0.108 sec)\n",
            "WARNING:tensorflow:It seems that global step (tf.train.get_global_step) has not been increased. Current value (could be stable): 3803 vs previous value: 3803. You could increase the global step by passing tf.train.get_global_step() to Optimizer.apply_gradients or Optimizer.minimize.\n",
            "INFO:tensorflow:global_step/sec: 931.937\n",
            "INFO:tensorflow:loss = 0.40313566, step = 3900 (0.106 sec)\n",
            "WARNING:tensorflow:It seems that global step (tf.train.get_global_step) has not been increased. Current value (could be stable): 3904 vs previous value: 3904. You could increase the global step by passing tf.train.get_global_step() to Optimizer.apply_gradients or Optimizer.minimize.\n",
            "INFO:tensorflow:global_step/sec: 902.972\n",
            "INFO:tensorflow:loss = 0.41430336, step = 4000 (0.112 sec)\n",
            "INFO:tensorflow:global_step/sec: 930.358\n",
            "INFO:tensorflow:loss = 0.42030835, step = 4100 (0.108 sec)\n",
            "INFO:tensorflow:global_step/sec: 914.744\n",
            "INFO:tensorflow:loss = 0.43619618, step = 4200 (0.106 sec)\n",
            "INFO:tensorflow:global_step/sec: 948.433\n",
            "INFO:tensorflow:loss = 0.4056544, step = 4300 (0.106 sec)\n",
            "INFO:tensorflow:global_step/sec: 888.458\n",
            "INFO:tensorflow:loss = 0.41853493, step = 4400 (0.113 sec)\n",
            "INFO:tensorflow:global_step/sec: 920.011\n",
            "INFO:tensorflow:loss = 0.4088349, step = 4500 (0.107 sec)\n",
            "INFO:tensorflow:global_step/sec: 935.859\n",
            "INFO:tensorflow:loss = 0.36744472, step = 4600 (0.110 sec)\n",
            "INFO:tensorflow:global_step/sec: 898.808\n",
            "INFO:tensorflow:loss = 0.43564293, step = 4700 (0.111 sec)\n",
            "INFO:tensorflow:global_step/sec: 870.114\n",
            "INFO:tensorflow:loss = 0.43452618, step = 4800 (0.112 sec)\n",
            "INFO:tensorflow:global_step/sec: 911.251\n",
            "INFO:tensorflow:loss = 0.33724704, step = 4900 (0.112 sec)\n",
            "INFO:tensorflow:Saving checkpoints for 5000 into /tmp/tmp2auvnjib/model.ckpt.\n",
            "INFO:tensorflow:Loss for final step: 0.30148926.\n"
          ],
          "name": "stdout"
        },
        {
          "output_type": "execute_result",
          "data": {
            "text/plain": [
              "<tensorflow_estimator.python.estimator.canned.dnn.DNNClassifierV2 at 0x7f644419fb70>"
            ]
          },
          "metadata": {
            "tags": []
          },
          "execution_count": 12
        }
      ]
    },
    {
      "cell_type": "code",
      "metadata": {
        "id": "guNjlyE3x1Rw",
        "colab_type": "code",
        "colab": {
          "base_uri": "https://localhost:8080/",
          "height": 392
        },
        "outputId": "94277979-9710-4176-9b53-f4be58173b92"
      },
      "source": [
        "eval_result = classifier.evaluate(\n",
        "    input_fn = lambda: input_function(test, test_y, training=False)\n",
        ")\n",
        "print('\\nTest set accuracy: {accuracy:0.3f}\\n'.format(**eval_result))"
      ],
      "execution_count": 13,
      "outputs": [
        {
          "output_type": "stream",
          "text": [
            "INFO:tensorflow:Calling model_fn.\n",
            "WARNING:tensorflow:Layer dnn is casting an input tensor from dtype float64 to the layer's dtype of float32, which is new behavior in TensorFlow 2.  The layer has dtype float32 because it's dtype defaults to floatx.\n",
            "\n",
            "If you intended to run this layer in float32, you can safely ignore this warning. If in doubt, this warning is likely only an issue if you are porting a TensorFlow 1.X model to TensorFlow 2.\n",
            "\n",
            "To change all layers to have dtype float64 by default, call `tf.keras.backend.set_floatx('float64')`. To change just this layer, pass dtype='float64' to the layer constructor. If you are the author of this layer, you can disable autocasting by passing autocast=False to the base Layer constructor.\n",
            "\n",
            "INFO:tensorflow:Done calling model_fn.\n",
            "INFO:tensorflow:Starting evaluation at 2020-03-19T07:54:02Z\n",
            "INFO:tensorflow:Graph was finalized.\n",
            "INFO:tensorflow:Restoring parameters from /tmp/tmp2auvnjib/model.ckpt-5000\n",
            "INFO:tensorflow:Running local_init_op.\n",
            "INFO:tensorflow:Done running local_init_op.\n",
            "INFO:tensorflow:Inference Time : 0.25007s\n",
            "INFO:tensorflow:Finished evaluation at 2020-03-19-07:54:02\n",
            "INFO:tensorflow:Saving dict for global step 5000: accuracy = 0.93333334, average_loss = 0.4583044, global_step = 5000, loss = 0.45682144\n",
            "INFO:tensorflow:Saving 'checkpoint_path' summary for global step 5000: /tmp/tmp2auvnjib/model.ckpt-5000\n",
            "\n",
            "Test set accuracy: 0.933\n",
            "\n"
          ],
          "name": "stdout"
        }
      ]
    },
    {
      "cell_type": "code",
      "metadata": {
        "id": "m38O1tJyyHD7",
        "colab_type": "code",
        "colab": {
          "base_uri": "https://localhost:8080/",
          "height": 230
        },
        "outputId": "d7962e9d-7ef3-418e-e03e-c6e2679ea074"
      },
      "source": [
        "def input_fn(features, batch_size=256):\n",
        "    # Convert the inputs to a Dataset without labels.\n",
        "    return tf.data.Dataset.from_tensor_slices(dict(features)).batch(batch_size)\n",
        "\n",
        "features = ['SepalLength', 'SepalWIdth', 'PetalLength', 'PetalWidth']\n",
        "predict = {}\n",
        "\n",
        "print(\"Please type numeric values as prompted.\")\n",
        "for feature in features:\n",
        "  valid = True\n",
        "  while valid: \n",
        "    val = input(feature + \": \")\n",
        "    if not val.isdigit(): valid = False\n",
        "\n",
        "  predict[feature] = [float(val)]\n",
        "\n",
        "predictions = classifier.predict(input_fn=lambda: input_fn(predict))\n",
        "for pred_dict in predictions:\n",
        "    class_id = pred_dict['class_ids'][0]\n",
        "    probability = pred_dict['probabilities'][class_id]\n",
        "\n",
        "    print('Prediction is \"{}\" ({:.1f}%)'.format(\n",
        "        SPECIES[class_id], 100 * probability))\n"
      ],
      "execution_count": 21,
      "outputs": [
        {
          "output_type": "stream",
          "text": [
            "Please type numeric values as prompted.\n",
            "SepalLength: 5.1\n",
            "SepalWIdth: 3.3\n",
            "PetalLength: 1.7\n",
            "PetalWidth: 0.5\n",
            "INFO:tensorflow:Calling model_fn.\n",
            "INFO:tensorflow:Done calling model_fn.\n",
            "INFO:tensorflow:Graph was finalized.\n",
            "INFO:tensorflow:Restoring parameters from /tmp/tmp2auvnjib/model.ckpt-5000\n",
            "INFO:tensorflow:Running local_init_op.\n",
            "INFO:tensorflow:Done running local_init_op.\n",
            "Prediction is \"Setosa\" (80.2%)\n"
          ],
          "name": "stdout"
        }
      ]
    }
  ]
}